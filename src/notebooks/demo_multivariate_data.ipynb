{
 "cells": [
  {
   "attachments": {},
   "cell_type": "markdown",
   "metadata": {},
   "source": [
    "## Applying Transformers for time series classification with the Visual Transformer (ViT) approach"
   ]
  },
  {
   "cell_type": "code",
   "execution_count": 2,
   "metadata": {},
   "outputs": [
    {
     "name": "stderr",
     "output_type": "stream",
     "text": [
      "2023-02-20 12:55:16.095215: I tensorflow/stream_executor/platform/default/dso_loader.cc:48] Successfully opened dynamic library libcudart.so.10.1\n"
     ]
    }
   ],
   "source": [
    "import sys, os\n",
    "sys.path.append('/home/roger/Documents/Multivariate_ts_transformer_predictor/')\n",
    "sys.path.append('/home/roger/Documents/Multivariate_ts_transformer_predictor/src')\n",
    "\n",
    "import numpy as np\n",
    "import pandas as pd\n",
    "from DataManager import DataManager\n",
    "from YamlLoader import YamlLoader"
   ]
  },
  {
   "attachments": {},
   "cell_type": "markdown",
   "metadata": {},
   "source": [
    "---\n",
    "## Loading the data"
   ]
  },
  {
   "cell_type": "code",
   "execution_count": 9,
   "metadata": {},
   "outputs": [
    {
     "data": {
      "text/plain": [
       "'/home/roger/Documents/Multivariate_ts_transformer_predictor'"
      ]
     },
     "execution_count": 9,
     "metadata": {},
     "output_type": "execute_result"
    }
   ],
   "source": [
    "MAIN_PATH = os.path.dirname(os.path.realpath('./../'))\n",
    "MAIN_PATH"
   ]
  },
  {
   "cell_type": "code",
   "execution_count": 11,
   "metadata": {},
   "outputs": [],
   "source": [
    "yl = YamlLoader()\n",
    "conf = yl.load_yaml(path=MAIN_PATH + '/src/config/data_config.yaml')"
   ]
  },
  {
   "cell_type": "code",
   "execution_count": 12,
   "metadata": {},
   "outputs": [
    {
     "data": {
      "text/plain": [
       "{'create_npys': False,\n",
       " 'targets': ['preemptive', 'reactive', 'training'],\n",
       " 'shuffle': False,\n",
       " 'test_split': 0.2,\n",
       " 'val_split': 0.2,\n",
       " 'dirs': {'preemptive': '/data/Twist-Preemptive-Verification/',\n",
       "  'reactive': '/data/Twist-Reactive-Verification/',\n",
       "  'training': '/data/Twist-Training/',\n",
       "  'modified_csvs': '/data/Modified_csvs/',\n",
       "  'npys': '/data/Npy_files/'}}"
      ]
     },
     "execution_count": 12,
     "metadata": {},
     "output_type": "execute_result"
    }
   ],
   "source": [
    "conf"
   ]
  },
  {
   "cell_type": "code",
   "execution_count": 13,
   "metadata": {},
   "outputs": [],
   "source": [
    "dm = DataManager(main_path=MAIN_PATH, config=conf)"
   ]
  },
  {
   "cell_type": "code",
   "execution_count": 14,
   "metadata": {},
   "outputs": [
    {
     "name": "stdout",
     "output_type": "stream",
     "text": [
      "Running pipeline for target preemptive...\n",
      "-> Loading files to np array\n",
      "-> Applying transforms\n",
      "Running pipeline for target reactive...\n",
      "-> Loading files to np array\n",
      "-> Applying transforms\n",
      "Running pipeline for target training...\n",
      "-> Loading files to np array\n",
      "-> Applying transforms\n",
      "DONE\n",
      "DONE\n",
      "DONE\n",
      "Preemptive: (330, 9, 3585)\n",
      "Reactive: (241, 9, 3585)\n",
      "Training: (250, 9, 3585)\n"
     ]
    }
   ],
   "source": [
    "data_dict = dm.run_pipeline()\n",
    "print(f'Preemptive: {data_dict[\"preemptive\"][\"pad_data\"].shape}')\n",
    "print(f'Reactive: {data_dict[\"reactive\"][\"pad_data\"].shape}')\n",
    "print(f'Training: {data_dict[\"training\"][\"pad_data\"].shape}')"
   ]
  },
  {
   "cell_type": "code",
   "execution_count": 39,
   "metadata": {},
   "outputs": [],
   "source": [
    "(x_train, y_train), (x_test, y_test) = dm.load_train_test_data(data_dict=data_dict)\n",
    "with open('x_train.npy', 'wb') as f:\n",
    "    np.save(f, x_train)\n",
    "\n",
    "with open('y_train.npy', 'wb') as f:\n",
    "    np.save(f, y_train)\n",
    "\n",
    "with open('x_test.npy', 'wb') as f:\n",
    "    np.save(f, x_test)\n",
    "\n",
    "with open('y_test.npy', 'wb') as f:\n",
    "    np.save(f, y_test)\n",
    "\n",
    "x_train, x_val, y_train, y_val = dm.load_train_val_data(x=x_train, y=y_train, shuffle=True)"
   ]
  },
  {
   "cell_type": "code",
   "execution_count": 34,
   "metadata": {},
   "outputs": [
    {
     "data": {
      "text/plain": [
       "(6, 3585)"
      ]
     },
     "execution_count": 34,
     "metadata": {},
     "output_type": "execute_result"
    }
   ],
   "source": [
    "x_train.shape[1:]"
   ]
  },
  {
   "attachments": {},
   "cell_type": "markdown",
   "metadata": {},
   "source": [
    "---\n",
    "## Visual Transformer model\n",
    "\n",
    "From: https://towardsdatascience.com/understand-and-implement-vision-transformer-with-tensorflow-2-0-f5435769093"
   ]
  },
  {
   "cell_type": "code",
   "execution_count": 17,
   "metadata": {},
   "outputs": [],
   "source": [
    "import tensorflow as tf\n",
    "from tensorflow.keras import layers"
   ]
  },
  {
   "cell_type": "code",
   "execution_count": 28,
   "metadata": {},
   "outputs": [],
   "source": [
    "training_data = tf.data.Dataset.from_tensor_slices((x_train, y_train))\n",
    "autotune = tf.data.experimental.AUTOTUNE\n",
    "train_data_batches = training_data.shuffle(buffer_size=40000).batch(128).prefetch(buffer_size=autotune)"
   ]
  },
  {
   "cell_type": "code",
   "execution_count": 32,
   "metadata": {},
   "outputs": [],
   "source": [
    "# Generating pathces (image sections)\n",
    "class GeneratePatch(layers.Layer):\n",
    "    def __init__(self, patch_size: int = 16):\n",
    "        super(GeneratePatch, self).__init__()\n",
    "        self.patch_size = patch_size\n",
    "\n",
    "    def call(self, images):\n",
    "        print(f'Images shape = {tf.shape(images)}')\n",
    "        batch_size = tf.shape(images)[0]\n",
    "        patches = tf.image.extract_patches(\n",
    "            images=images,\n",
    "            sizes=[1, self.patch_size, self.patch_size, 1], \n",
    "            strides=[1, self.patch_size, self.patch_size, 1], rates=[1, 1, 1, 1], padding=\"VALID\"\n",
    "        )\n",
    "        patch_dims = patches.shape[-1]\n",
    "        patches = tf.reshape(patches, [batch_size, -1, patch_dims])\n",
    "        return patches"
   ]
  },
  {
   "cell_type": "code",
   "execution_count": 33,
   "metadata": {},
   "outputs": [
    {
     "name": "stdout",
     "output_type": "stream",
     "text": [
      "WARNING:tensorflow:Layer generate_patch_1 is casting an input tensor from dtype float64 to the layer's dtype of float32, which is new behavior in TensorFlow 2.  The layer has dtype float32 because its dtype defaults to floatx.\n",
      "\n",
      "If you intended to run this layer in float32, you can safely ignore this warning. If in doubt, this warning is likely only an issue if you are porting a TensorFlow 1.X model to TensorFlow 2.\n",
      "\n",
      "To change all layers to have dtype float64 by default, call `tf.keras.backend.set_floatx('float64')`. To change just this layer, pass dtype='float64' to the layer constructor. If you are the author of this layer, you can disable autocasting by passing autocast=False to the base Layer constructor.\n",
      "\n",
      "Images shape = [   1    6 3585]\n"
     ]
    },
    {
     "ename": "InvalidArgumentError",
     "evalue": "input must be 4-dimensional[1,6,3585] [Op:ExtractImagePatches]",
     "output_type": "error",
     "traceback": [
      "\u001b[0;31m---------------------------------------------------------------------------\u001b[0m",
      "\u001b[0;31mInvalidArgumentError\u001b[0m                      Traceback (most recent call last)",
      "Cell \u001b[0;32mIn[33], line 12\u001b[0m\n\u001b[1;32m      9\u001b[0m train_iter_7label \u001b[39m=\u001b[39m train_iter_7label\u001b[39m.\u001b[39mnumpy() \n\u001b[1;32m     11\u001b[0m generate_patch_layer \u001b[39m=\u001b[39m GeneratePatch(patch_size\u001b[39m=\u001b[39m\u001b[39m16\u001b[39m)\n\u001b[0;32m---> 12\u001b[0m patches \u001b[39m=\u001b[39m generate_patch_layer(train_iter_7im)\n\u001b[1;32m     14\u001b[0m \u001b[39mprint\u001b[39m (\u001b[39m'\u001b[39m\u001b[39mpatch per image and patches shape: \u001b[39m\u001b[39m'\u001b[39m, patches\u001b[39m.\u001b[39mshape[\u001b[39m1\u001b[39m], \u001b[39m'\u001b[39m\u001b[39m\\n\u001b[39;00m\u001b[39m'\u001b[39m, patches\u001b[39m.\u001b[39mshape)\n\u001b[1;32m     18\u001b[0m \u001b[39mdef\u001b[39;00m \u001b[39mrender_image_and_patches\u001b[39m(image, patches):\n",
      "File \u001b[0;32m~/.local/lib/python3.8/site-packages/tensorflow/python/keras/engine/base_layer.py:985\u001b[0m, in \u001b[0;36mLayer.__call__\u001b[0;34m(self, *args, **kwargs)\u001b[0m\n\u001b[1;32m    982\u001b[0m   \u001b[39mself\u001b[39m\u001b[39m.\u001b[39m_maybe_build(inputs)\n\u001b[1;32m    984\u001b[0m \u001b[39mwith\u001b[39;00m ops\u001b[39m.\u001b[39menable_auto_cast_variables(\u001b[39mself\u001b[39m\u001b[39m.\u001b[39m_compute_dtype_object):\n\u001b[0;32m--> 985\u001b[0m   outputs \u001b[39m=\u001b[39m call_fn(inputs, \u001b[39m*\u001b[39;49margs, \u001b[39m*\u001b[39;49m\u001b[39m*\u001b[39;49mkwargs)\n\u001b[1;32m    987\u001b[0m \u001b[39mif\u001b[39;00m \u001b[39mself\u001b[39m\u001b[39m.\u001b[39m_activity_regularizer:\n\u001b[1;32m    988\u001b[0m   \u001b[39mself\u001b[39m\u001b[39m.\u001b[39m_handle_activity_regularization(inputs, outputs)\n",
      "Cell \u001b[0;32mIn[32], line 10\u001b[0m, in \u001b[0;36mGeneratePatch.call\u001b[0;34m(self, images)\u001b[0m\n\u001b[1;32m      8\u001b[0m \u001b[39mprint\u001b[39m(\u001b[39mf\u001b[39m\u001b[39m'\u001b[39m\u001b[39mImages shape = \u001b[39m\u001b[39m{\u001b[39;00mtf\u001b[39m.\u001b[39mshape(images)\u001b[39m}\u001b[39;00m\u001b[39m'\u001b[39m)\n\u001b[1;32m      9\u001b[0m batch_size \u001b[39m=\u001b[39m tf\u001b[39m.\u001b[39mshape(images)[\u001b[39m0\u001b[39m]\n\u001b[0;32m---> 10\u001b[0m patches \u001b[39m=\u001b[39m tf\u001b[39m.\u001b[39;49mimage\u001b[39m.\u001b[39;49mextract_patches(\n\u001b[1;32m     11\u001b[0m     images\u001b[39m=\u001b[39;49mimages,\n\u001b[1;32m     12\u001b[0m     sizes\u001b[39m=\u001b[39;49m[\u001b[39m1\u001b[39;49m, \u001b[39mself\u001b[39;49m\u001b[39m.\u001b[39;49mpatch_size, \u001b[39mself\u001b[39;49m\u001b[39m.\u001b[39;49mpatch_size, \u001b[39m1\u001b[39;49m], \n\u001b[1;32m     13\u001b[0m     strides\u001b[39m=\u001b[39;49m[\u001b[39m1\u001b[39;49m, \u001b[39mself\u001b[39;49m\u001b[39m.\u001b[39;49mpatch_size, \u001b[39mself\u001b[39;49m\u001b[39m.\u001b[39;49mpatch_size, \u001b[39m1\u001b[39;49m], rates\u001b[39m=\u001b[39;49m[\u001b[39m1\u001b[39;49m, \u001b[39m1\u001b[39;49m, \u001b[39m1\u001b[39;49m, \u001b[39m1\u001b[39;49m], padding\u001b[39m=\u001b[39;49m\u001b[39m\"\u001b[39;49m\u001b[39mVALID\u001b[39;49m\u001b[39m\"\u001b[39;49m\n\u001b[1;32m     14\u001b[0m )\n\u001b[1;32m     15\u001b[0m patch_dims \u001b[39m=\u001b[39m patches\u001b[39m.\u001b[39mshape[\u001b[39m-\u001b[39m\u001b[39m1\u001b[39m]\n\u001b[1;32m     16\u001b[0m patches \u001b[39m=\u001b[39m tf\u001b[39m.\u001b[39mreshape(patches, [batch_size, \u001b[39m-\u001b[39m\u001b[39m1\u001b[39m, patch_dims])\n",
      "File \u001b[0;32m~/.local/lib/python3.8/site-packages/tensorflow/python/util/dispatch.py:201\u001b[0m, in \u001b[0;36madd_dispatch_support.<locals>.wrapper\u001b[0;34m(*args, **kwargs)\u001b[0m\n\u001b[1;32m    199\u001b[0m \u001b[39m\u001b[39m\u001b[39m\"\"\"Call target, and fall back on dispatchers if there is a TypeError.\"\"\"\u001b[39;00m\n\u001b[1;32m    200\u001b[0m \u001b[39mtry\u001b[39;00m:\n\u001b[0;32m--> 201\u001b[0m   \u001b[39mreturn\u001b[39;00m target(\u001b[39m*\u001b[39;49margs, \u001b[39m*\u001b[39;49m\u001b[39m*\u001b[39;49mkwargs)\n\u001b[1;32m    202\u001b[0m \u001b[39mexcept\u001b[39;00m (\u001b[39mTypeError\u001b[39;00m, \u001b[39mValueError\u001b[39;00m):\n\u001b[1;32m    203\u001b[0m   \u001b[39m# Note: convert_to_eager_tensor currently raises a ValueError, not a\u001b[39;00m\n\u001b[1;32m    204\u001b[0m   \u001b[39m# TypeError, when given unexpected types.  So we need to catch both.\u001b[39;00m\n\u001b[1;32m    205\u001b[0m   result \u001b[39m=\u001b[39m dispatch(wrapper, args, kwargs)\n",
      "File \u001b[0;32m~/.local/lib/python3.8/site-packages/tensorflow/python/ops/array_ops.py:5467\u001b[0m, in \u001b[0;36mextract_image_patches_v2\u001b[0;34m(images, sizes, strides, rates, padding, name)\u001b[0m\n\u001b[1;32m   5349\u001b[0m \u001b[39m@tf_export\u001b[39m(\u001b[39m\"\u001b[39m\u001b[39mimage.extract_patches\u001b[39m\u001b[39m\"\u001b[39m)\n\u001b[1;32m   5350\u001b[0m \u001b[39m@dispatch\u001b[39m\u001b[39m.\u001b[39madd_dispatch_support\n\u001b[1;32m   5351\u001b[0m \u001b[39mdef\u001b[39;00m \u001b[39mextract_image_patches_v2\u001b[39m(images, sizes, strides, rates, padding, name\u001b[39m=\u001b[39m\u001b[39mNone\u001b[39;00m):\n\u001b[1;32m   5352\u001b[0m \u001b[39m  \u001b[39m\u001b[39mr\u001b[39m\u001b[39m\"\"\"Extract `patches` from `images`.\u001b[39;00m\n\u001b[1;32m   5353\u001b[0m \n\u001b[1;32m   5354\u001b[0m \u001b[39m  This op collects patches from the input image, as if applying a\u001b[39;00m\n\u001b[0;32m   (...)\u001b[0m\n\u001b[1;32m   5465\u001b[0m \u001b[39m    A 4-D Tensor of the same type as the input.\u001b[39;00m\n\u001b[1;32m   5466\u001b[0m \u001b[39m  \"\"\"\u001b[39;00m\n\u001b[0;32m-> 5467\u001b[0m   \u001b[39mreturn\u001b[39;00m gen_array_ops\u001b[39m.\u001b[39;49mextract_image_patches(images, sizes, strides, rates,\n\u001b[1;32m   5468\u001b[0m                                              padding, name)\n",
      "File \u001b[0;32m~/.local/lib/python3.8/site-packages/tensorflow/python/ops/gen_array_ops.py:2386\u001b[0m, in \u001b[0;36mextract_image_patches\u001b[0;34m(images, ksizes, strides, rates, padding, name)\u001b[0m\n\u001b[1;32m   2384\u001b[0m   \u001b[39mreturn\u001b[39;00m _result\n\u001b[1;32m   2385\u001b[0m \u001b[39mexcept\u001b[39;00m _core\u001b[39m.\u001b[39m_NotOkStatusException \u001b[39mas\u001b[39;00m e:\n\u001b[0;32m-> 2386\u001b[0m   _ops\u001b[39m.\u001b[39;49mraise_from_not_ok_status(e, name)\n\u001b[1;32m   2387\u001b[0m \u001b[39mexcept\u001b[39;00m _core\u001b[39m.\u001b[39m_FallbackException:\n\u001b[1;32m   2388\u001b[0m   \u001b[39mpass\u001b[39;00m\n",
      "File \u001b[0;32m~/.local/lib/python3.8/site-packages/tensorflow/python/framework/ops.py:6843\u001b[0m, in \u001b[0;36mraise_from_not_ok_status\u001b[0;34m(e, name)\u001b[0m\n\u001b[1;32m   6841\u001b[0m message \u001b[39m=\u001b[39m e\u001b[39m.\u001b[39mmessage \u001b[39m+\u001b[39m (\u001b[39m\"\u001b[39m\u001b[39m name: \u001b[39m\u001b[39m\"\u001b[39m \u001b[39m+\u001b[39m name \u001b[39mif\u001b[39;00m name \u001b[39mis\u001b[39;00m \u001b[39mnot\u001b[39;00m \u001b[39mNone\u001b[39;00m \u001b[39melse\u001b[39;00m \u001b[39m\"\u001b[39m\u001b[39m\"\u001b[39m)\n\u001b[1;32m   6842\u001b[0m \u001b[39m# pylint: disable=protected-access\u001b[39;00m\n\u001b[0;32m-> 6843\u001b[0m six\u001b[39m.\u001b[39;49mraise_from(core\u001b[39m.\u001b[39;49m_status_to_exception(e\u001b[39m.\u001b[39;49mcode, message), \u001b[39mNone\u001b[39;49;00m)\n",
      "File \u001b[0;32m<string>:3\u001b[0m, in \u001b[0;36mraise_from\u001b[0;34m(value, from_value)\u001b[0m\n",
      "\u001b[0;31mInvalidArgumentError\u001b[0m: input must be 4-dimensional[1,6,3585] [Op:ExtractImagePatches]"
     ]
    }
   ],
   "source": [
    "from itertools import islice, count\n",
    "import matplotlib.pyplot as plt\n",
    "\n",
    "train_iter_7im, train_iter_7label = next(islice(training_data, 7, None)) # access the 7th element from the iterator\n",
    "\n",
    "\n",
    "\n",
    "train_iter_7im = tf.expand_dims(train_iter_7im, 0)\n",
    "train_iter_7label = train_iter_7label.numpy() \n",
    "\n",
    "\n",
    "patch_size = 16\n",
    "generate_patch_layer = GeneratePatch(patch_size=patch_size)\n",
    "patches = generate_patch_layer(train_iter_7im)\n",
    "\n",
    "print ('patch per image and patches shape: ', patches.shape[1], '\\n', patches.shape)\n",
    "\n",
    "\n",
    "\n",
    "def render_image_and_patches(image, patches):\n",
    "    plt.figure(figsize=(6, 6))\n",
    "    plt.imshow(tf.cast(image[0], tf.uint8))\n",
    "    plt.xlabel([np.argmax(train_iter_7label)], fontsize=13)\n",
    "    n = int(np.sqrt(patches.shape[1]))\n",
    "    plt.figure(figsize=(6, 6))\n",
    "    #plt.suptitle(f\"Image Patches\", size=13)\n",
    "    for i, patch in enumerate(patches[0]):\n",
    "        ax = plt.subplot(n, n, i+1)\n",
    "        patch_img = tf.reshape(patch, (patch_size, patch_size, 3))\n",
    "        ax.imshow(patch_img.numpy().astype(\"uint8\"))\n",
    "        ax.axis('off')    \n",
    "\n",
    "        \n",
    "\n",
    "\n",
    "render_image_and_patches(train_iter_7im, patches)"
   ]
  },
  {
   "attachments": {},
   "cell_type": "markdown",
   "metadata": {},
   "source": [
    "---\n",
    "## Brute forcing the data into basic Transformer\n",
    "\n",
    "Model from: https://keras.io/examples/timeseries/timeseries_transformer_classification/"
   ]
  },
  {
   "cell_type": "code",
   "execution_count": null,
   "metadata": {},
   "outputs": [],
   "source": [
    "# x_train = np.load('x_train.npy')\n",
    "# y_train = np.load('y_train.npy')\n",
    "# x_test = np.load('x_test.npy')\n",
    "# y_test = np.load('y_test.npy')\n",
    "(x_train, y_train), (x_test, y_test) = dm.load_train_test_data(data_dict=data_dict)"
   ]
  },
  {
   "cell_type": "code",
   "execution_count": 35,
   "metadata": {},
   "outputs": [],
   "source": [
    "def transformer_encoder(inputs, head_size, num_heads, ff_dim, dropout=0):\n",
    "    # Normalization and Attention\n",
    "    x = layers.LayerNormalization(epsilon=1e-6)(inputs)\n",
    "    x = layers.MultiHeadAttention(\n",
    "        key_dim=head_size, num_heads=num_heads, dropout=dropout\n",
    "    )(x, x)\n",
    "    x = layers.Dropout(dropout)(x)\n",
    "    res = x + inputs\n",
    "\n",
    "    # Feed Forward Part\n",
    "    x = layers.LayerNormalization(epsilon=1e-6)(res)\n",
    "    x = layers.Conv1D(filters=ff_dim, kernel_size=1, activation=\"relu\")(x)\n",
    "    x = layers.Dropout(dropout)(x)\n",
    "    x = layers.Conv1D(filters=inputs.shape[-1], kernel_size=1)(x)\n",
    "    return x + res\n"
   ]
  },
  {
   "cell_type": "code",
   "execution_count": 36,
   "metadata": {},
   "outputs": [],
   "source": [
    "def build_model(\n",
    "    input_shape,\n",
    "    head_size,\n",
    "    num_heads,\n",
    "    ff_dim,\n",
    "    num_transformer_blocks,\n",
    "    mlp_units,\n",
    "    dropout=0,\n",
    "    mlp_dropout=0,\n",
    "    n_classes=2\n",
    "):\n",
    "    inputs = tf.keras.Input(shape=input_shape)\n",
    "    x = inputs\n",
    "    for _ in range(num_transformer_blocks):\n",
    "        x = transformer_encoder(x, head_size, num_heads, ff_dim, dropout)\n",
    "\n",
    "    x = layers.GlobalAveragePooling1D(data_format=\"channels_first\")(x)\n",
    "    for dim in mlp_units:\n",
    "        x = layers.Dense(dim, activation=\"relu\")(x)\n",
    "        x = layers.Dropout(mlp_dropout)(x)\n",
    "    outputs = layers.Dense(n_classes, activation=\"softmax\")(x)\n",
    "    return tf.keras.Model(inputs, outputs)\n"
   ]
  },
  {
   "cell_type": "code",
   "execution_count": 37,
   "metadata": {},
   "outputs": [
    {
     "ename": "AttributeError",
     "evalue": "module 'tensorflow.keras.layers' has no attribute 'MultiHeadAttention'",
     "output_type": "error",
     "traceback": [
      "\u001b[0;31m---------------------------------------------------------------------------\u001b[0m",
      "\u001b[0;31mAttributeError\u001b[0m                            Traceback (most recent call last)",
      "Cell \u001b[0;32mIn[37], line 3\u001b[0m\n\u001b[1;32m      1\u001b[0m input_shape \u001b[39m=\u001b[39m x_train\u001b[39m.\u001b[39mshape[\u001b[39m1\u001b[39m:]\n\u001b[0;32m----> 3\u001b[0m model \u001b[39m=\u001b[39m build_model(\n\u001b[1;32m      4\u001b[0m     input_shape,\n\u001b[1;32m      5\u001b[0m     head_size\u001b[39m=\u001b[39;49m\u001b[39m256\u001b[39;49m,\n\u001b[1;32m      6\u001b[0m     num_heads\u001b[39m=\u001b[39;49m\u001b[39m4\u001b[39;49m,\n\u001b[1;32m      7\u001b[0m     ff_dim\u001b[39m=\u001b[39;49m\u001b[39m4\u001b[39;49m,\n\u001b[1;32m      8\u001b[0m     num_transformer_blocks\u001b[39m=\u001b[39;49m\u001b[39m4\u001b[39;49m,\n\u001b[1;32m      9\u001b[0m     mlp_units\u001b[39m=\u001b[39;49m[\u001b[39m128\u001b[39;49m],\n\u001b[1;32m     10\u001b[0m     mlp_dropout\u001b[39m=\u001b[39;49m\u001b[39m0.4\u001b[39;49m,\n\u001b[1;32m     11\u001b[0m     dropout\u001b[39m=\u001b[39;49m\u001b[39m0.25\u001b[39;49m,\n\u001b[1;32m     12\u001b[0m )\n\u001b[1;32m     14\u001b[0m model\u001b[39m.\u001b[39mcompile(\n\u001b[1;32m     15\u001b[0m     loss\u001b[39m=\u001b[39m\u001b[39m\"\u001b[39m\u001b[39msparse_categorical_crossentropy\u001b[39m\u001b[39m\"\u001b[39m,\n\u001b[1;32m     16\u001b[0m     optimizer\u001b[39m=\u001b[39mtf\u001b[39m.\u001b[39mkeras\u001b[39m.\u001b[39moptimizers\u001b[39m.\u001b[39mAdam(learning_rate\u001b[39m=\u001b[39m\u001b[39m1e-4\u001b[39m),\n\u001b[1;32m     17\u001b[0m     metrics\u001b[39m=\u001b[39m[\u001b[39m\"\u001b[39m\u001b[39msparse_categorical_accuracy\u001b[39m\u001b[39m\"\u001b[39m],\n\u001b[1;32m     18\u001b[0m )\n\u001b[1;32m     19\u001b[0m model\u001b[39m.\u001b[39msummary()\n",
      "Cell \u001b[0;32mIn[36], line 15\u001b[0m, in \u001b[0;36mbuild_model\u001b[0;34m(input_shape, head_size, num_heads, ff_dim, num_transformer_blocks, mlp_units, dropout, mlp_dropout, n_classes)\u001b[0m\n\u001b[1;32m     13\u001b[0m x \u001b[39m=\u001b[39m inputs\n\u001b[1;32m     14\u001b[0m \u001b[39mfor\u001b[39;00m _ \u001b[39min\u001b[39;00m \u001b[39mrange\u001b[39m(num_transformer_blocks):\n\u001b[0;32m---> 15\u001b[0m     x \u001b[39m=\u001b[39m transformer_encoder(x, head_size, num_heads, ff_dim, dropout)\n\u001b[1;32m     17\u001b[0m x \u001b[39m=\u001b[39m layers\u001b[39m.\u001b[39mGlobalAveragePooling1D(data_format\u001b[39m=\u001b[39m\u001b[39m\"\u001b[39m\u001b[39mchannels_first\u001b[39m\u001b[39m\"\u001b[39m)(x)\n\u001b[1;32m     18\u001b[0m \u001b[39mfor\u001b[39;00m dim \u001b[39min\u001b[39;00m mlp_units:\n",
      "Cell \u001b[0;32mIn[35], line 4\u001b[0m, in \u001b[0;36mtransformer_encoder\u001b[0;34m(inputs, head_size, num_heads, ff_dim, dropout)\u001b[0m\n\u001b[1;32m      1\u001b[0m \u001b[39mdef\u001b[39;00m \u001b[39mtransformer_encoder\u001b[39m(inputs, head_size, num_heads, ff_dim, dropout\u001b[39m=\u001b[39m\u001b[39m0\u001b[39m):\n\u001b[1;32m      2\u001b[0m     \u001b[39m# Normalization and Attention\u001b[39;00m\n\u001b[1;32m      3\u001b[0m     x \u001b[39m=\u001b[39m layers\u001b[39m.\u001b[39mLayerNormalization(epsilon\u001b[39m=\u001b[39m\u001b[39m1e-6\u001b[39m)(inputs)\n\u001b[0;32m----> 4\u001b[0m     x \u001b[39m=\u001b[39m layers\u001b[39m.\u001b[39;49mMultiHeadAttention(\n\u001b[1;32m      5\u001b[0m         key_dim\u001b[39m=\u001b[39mhead_size, num_heads\u001b[39m=\u001b[39mnum_heads, dropout\u001b[39m=\u001b[39mdropout\n\u001b[1;32m      6\u001b[0m     )(x, x)\n\u001b[1;32m      7\u001b[0m     x \u001b[39m=\u001b[39m layers\u001b[39m.\u001b[39mDropout(dropout)(x)\n\u001b[1;32m      8\u001b[0m     res \u001b[39m=\u001b[39m x \u001b[39m+\u001b[39m inputs\n",
      "\u001b[0;31mAttributeError\u001b[0m: module 'tensorflow.keras.layers' has no attribute 'MultiHeadAttention'"
     ]
    }
   ],
   "source": [
    "input_shape = x_train.shape[1:]\n",
    "\n",
    "model = build_model(\n",
    "    input_shape,\n",
    "    head_size=256,\n",
    "    num_heads=4,\n",
    "    ff_dim=4,\n",
    "    num_transformer_blocks=4,\n",
    "    mlp_units=[128],\n",
    "    mlp_dropout=0.4,\n",
    "    dropout=0.25,\n",
    ")\n",
    "\n",
    "model.compile(\n",
    "    loss=\"sparse_categorical_crossentropy\",\n",
    "    optimizer=tf.keras.optimizers.Adam(learning_rate=1e-4),\n",
    "    metrics=[\"sparse_categorical_accuracy\"],\n",
    ")\n",
    "model.summary()\n",
    "\n",
    "callbacks = [tf.keras.callbacks.EarlyStopping(patience=10, restore_best_weights=True)]\n",
    "\n",
    "history = model.fit(\n",
    "    x_train,\n",
    "    y_train,\n",
    "    validation_split=0.2,\n",
    "    epochs=200,\n",
    "    batch_size=64,\n",
    "    callbacks=callbacks,\n",
    ")\n",
    "\n",
    "eval = model.evaluate(x_test, y_test, verbose=1)\n"
   ]
  },
  {
   "cell_type": "code",
   "execution_count": null,
   "metadata": {},
   "outputs": [],
   "source": [
    "loss = history.history['loss']\n",
    "acc = history.history['sparse_categorical_accuracy']\n",
    "val_loss = history.history['val_loss']\n",
    "val_acc = history.history['val_sparse_categorical_accuracy']"
   ]
  },
  {
   "cell_type": "code",
   "execution_count": null,
   "metadata": {},
   "outputs": [],
   "source": [
    "fig, axes = plt.subplots(2, 2, figsize=(20, 8))\n",
    "axes[0, 0].plot(acc, label='Training accuracy')\n",
    "axes[0, 0].title.set_text('Training accuracy over epochs')\n",
    "axes[0, 1].plot(np.array(loss), label='Training loss', color='orange')\n",
    "axes[0, 1].title.set_text('Training loss over epochs')\n",
    "\n",
    "\n",
    "\n",
    "axes[1, 0].plot(val_acc, label='Validation accuracy')\n",
    "axes[1, 0].title.set_text('Valiadation accuracy over epochs')\n",
    "axes[1, 1].plot(np.array(val_loss), label='Validation loss', color='orange')\n",
    "axes[1, 1].title.set_text('Valiadation loss over epochs')\n",
    "\n",
    "\n",
    "plt.show()"
   ]
  },
  {
   "cell_type": "code",
   "execution_count": null,
   "metadata": {},
   "outputs": [],
   "source": [
    "model = build_model(\n",
    "    input_shape,\n",
    "    head_size=256,\n",
    "    num_heads=4,\n",
    "    ff_dim=4,\n",
    "    num_transformer_blocks=4,\n",
    "    mlp_units=[128],\n",
    "    mlp_dropout=0.4,\n",
    "    dropout=0.25,\n",
    ")\n",
    "\n",
    "model.compile(\n",
    "    loss=\"binary_crossentropy\",\n",
    "    optimizer=tf.keras.optimizers.Adam(learning_rate=1e-4),\n",
    "    metrics=[\"binary_accuracy\"],\n",
    ")\n",
    "model.summary()\n",
    "\n",
    "callbacks = [tf.keras.callbacks.EarlyStopping(patience=100, restore_best_weights=True)]\n",
    "\n",
    "history = model.fit(\n",
    "    x_train,\n",
    "    tf.one_hot(y_train, 2),\n",
    "    validation_split=0.2,\n",
    "    epochs=200,\n",
    "    batch_size=32,\n",
    "    callbacks=callbacks,\n",
    ")\n",
    "\n",
    "eval = model.evaluate(x_test, tf.one_hot(y_test, 2), verbose=1)"
   ]
  },
  {
   "cell_type": "code",
   "execution_count": null,
   "metadata": {},
   "outputs": [],
   "source": [
    "loss = history.history['loss']\n",
    "acc = history.history['binary_accuracy']\n",
    "val_loss = history.history['val_loss']\n",
    "val_acc = history.history['val_binary_accuracy']"
   ]
  },
  {
   "cell_type": "code",
   "execution_count": null,
   "metadata": {},
   "outputs": [],
   "source": [
    "fig, axes = plt.subplots(2, 2, figsize=(20, 8))\n",
    "axes[0, 0].plot(acc, label='Training accuracy')\n",
    "axes[0, 0].title.set_text('Training accuracy over epochs')\n",
    "axes[0, 1].plot(np.array(loss), label='Training loss', color='orange')\n",
    "axes[0, 1].title.set_text('Training loss over epochs')\n",
    "\n",
    "\n",
    "\n",
    "axes[1, 0].plot(val_acc, label='Validation accuracy')\n",
    "axes[1, 0].title.set_text('Valiadation accuracy over epochs')\n",
    "axes[1, 1].plot(np.array(val_loss), label='Validation loss', color='orange')\n",
    "axes[1, 1].title.set_text('Valiadation loss over epochs')\n",
    "\n",
    "\n",
    "plt.show()"
   ]
  },
  {
   "cell_type": "code",
   "execution_count": null,
   "metadata": {},
   "outputs": [],
   "source": []
  },
  {
   "cell_type": "code",
   "execution_count": null,
   "metadata": {},
   "outputs": [],
   "source": []
  }
 ],
 "metadata": {
  "kernelspec": {
   "display_name": "Python 3",
   "language": "python",
   "name": "python3"
  },
  "language_info": {
   "codemirror_mode": {
    "name": "ipython",
    "version": 3
   },
   "file_extension": ".py",
   "mimetype": "text/x-python",
   "name": "python",
   "nbconvert_exporter": "python",
   "pygments_lexer": "ipython3",
   "version": "3.8.10"
  },
  "orig_nbformat": 4,
  "vscode": {
   "interpreter": {
    "hash": "916dbcbb3f70747c44a77c7bcd40155683ae19c65e1c03b4aa3499c5328201f1"
   }
  }
 },
 "nbformat": 4,
 "nbformat_minor": 2
}
